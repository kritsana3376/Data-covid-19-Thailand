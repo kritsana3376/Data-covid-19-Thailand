{
  "nbformat": 4,
  "nbformat_minor": 0,
  "metadata": {
    "colab": {
      "name": "EEmathHW1.ipynb",
      "provenance": [],
      "collapsed_sections": [],
      "authorship_tag": "ABX9TyPMQSP8raLwRXBfumieL8TE",
      "include_colab_link": true
    },
    "kernelspec": {
      "name": "python3",
      "display_name": "Python 3"
    },
    "language_info": {
      "name": "python"
    }
  },
  "cells": [
    {
      "cell_type": "markdown",
      "metadata": {
        "id": "view-in-github",
        "colab_type": "text"
      },
      "source": [
        "<a href=\"https://colab.research.google.com/github/kritsana3376/Data-covid-19-Thailand/blob/master/EEmathHW1.ipynb\" target=\"_parent\"><img src=\"https://colab.research.google.com/assets/colab-badge.svg\" alt=\"Open In Colab\"/></a>"
      ]
    },
    {
      "cell_type": "code",
      "execution_count": 16,
      "metadata": {
        "id": "CntLO_y8TMhI"
      },
      "outputs": [],
      "source": [
        "import time\n",
        "import numpy as np"
      ]
    },
    {
      "cell_type": "code",
      "source": [
        "#matrix inversion\n",
        "t_sum = 0\n",
        "for k in range(1000): # try for 1000 smple\n",
        "    A = np.random.randn(100,100) #generate random matrix A of 100 x 100\n",
        "    b = np.random.randn(100,) #generate random vector b of 100\n",
        "    t1 = time.process_time()\n",
        "    x = np.dot(np.linalg.inv(A),b) # x = A{-1} x b\n",
        "    t2 = time.process_time()\n",
        "    t_sum += t2-t1\n",
        "t_avg = t_sum/1000\n",
        "print(f\"Average Computational time{t_avg*1000:0.3f} ms.\")"
      ],
      "metadata": {
        "id": "LwaNigwQTYa1",
        "colab": {
          "base_uri": "https://localhost:8080/"
        },
        "outputId": "43a7cf80-cc9d-43cf-943d-c78ab4131833"
      },
      "execution_count": 17,
      "outputs": [
        {
          "output_type": "stream",
          "name": "stdout",
          "text": [
            "Average Computational time0.946 ms.\n"
          ]
        }
      ]
    },
    {
      "cell_type": "code",
      "source": [
        "#Gauss elimintion\n",
        "t_sum1 = 0\n",
        "for k1 in range(1000): # try for 1000 smple\n",
        "    A1 = np.random.randn(100,100)\n",
        "    b1 = np.random.randn(100,)\n",
        "    t11 = time.process_time()\n",
        "    x = np.linalg.solve(A1,b1) # solve Ax = b\n",
        "    t21 = time.process_time()\n",
        "    t_sum1 += t21-t11\n",
        "    "
      ],
      "metadata": {
        "id": "AO6CNi02TeJA"
      },
      "execution_count": 18,
      "outputs": []
    },
    {
      "cell_type": "code",
      "source": [
        "t_avg1 = t_sum1/1000\n",
        "print(f\"Averge Computational time {t_avg1*1000:0.3f} ms.\")"
      ],
      "metadata": {
        "id": "qR0QyDQ9TiT9",
        "colab": {
          "base_uri": "https://localhost:8080/"
        },
        "outputId": "79ddf4a4-5d76-4cca-a124-1415cbba1409"
      },
      "execution_count": 19,
      "outputs": [
        {
          "output_type": "stream",
          "name": "stdout",
          "text": [
            "Averge Computational time 0.533 ms.\n"
          ]
        }
      ]
    },
    {
      "cell_type": "code",
      "source": [
        ""
      ],
      "metadata": {
        "id": "dMUI2rk5Tm1n"
      },
      "execution_count": null,
      "outputs": []
    }
  ]
}